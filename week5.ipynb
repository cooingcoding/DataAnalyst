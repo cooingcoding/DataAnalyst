{
  "nbformat": 4,
  "nbformat_minor": 0,
  "metadata": {
    "colab": {
      "provenance": []
    },
    "kernelspec": {
      "name": "python3",
      "display_name": "Python 3"
    },
    "language_info": {
      "name": "python"
    }
  },
  "cells": [
    {
      "cell_type": "code",
      "execution_count": 1,
      "metadata": {
        "colab": {
          "base_uri": "https://localhost:8080/"
        },
        "id": "hIuibisSluTB",
        "outputId": "12896406-46aa-4b0e-b62b-cdcf68b0cf66"
      },
      "outputs": [
        {
          "output_type": "stream",
          "name": "stdout",
          "text": [
            "Looking in indexes: https://pypi.org/simple, https://us-python.pkg.dev/colab-wheels/public/simple/\n",
            "Collecting finance-datareader\n",
            "  Downloading finance_datareader-0.9.50-py3-none-any.whl (19 kB)\n",
            "Requirement already satisfied: requests>=2.3.0 in /usr/local/lib/python3.8/dist-packages (from finance-datareader) (2.25.1)\n",
            "Collecting requests-file\n",
            "  Downloading requests_file-1.5.1-py2.py3-none-any.whl (3.7 kB)\n",
            "Requirement already satisfied: lxml in /usr/local/lib/python3.8/dist-packages (from finance-datareader) (4.9.2)\n",
            "Requirement already satisfied: pandas>=0.19.2 in /usr/local/lib/python3.8/dist-packages (from finance-datareader) (1.3.5)\n",
            "Requirement already satisfied: tqdm in /usr/local/lib/python3.8/dist-packages (from finance-datareader) (4.64.1)\n",
            "Requirement already satisfied: python-dateutil>=2.7.3 in /usr/local/lib/python3.8/dist-packages (from pandas>=0.19.2->finance-datareader) (2.8.2)\n",
            "Requirement already satisfied: pytz>=2017.3 in /usr/local/lib/python3.8/dist-packages (from pandas>=0.19.2->finance-datareader) (2022.7)\n",
            "Requirement already satisfied: numpy>=1.17.3 in /usr/local/lib/python3.8/dist-packages (from pandas>=0.19.2->finance-datareader) (1.21.6)\n",
            "Requirement already satisfied: urllib3<1.27,>=1.21.1 in /usr/local/lib/python3.8/dist-packages (from requests>=2.3.0->finance-datareader) (1.24.3)\n",
            "Requirement already satisfied: idna<3,>=2.5 in /usr/local/lib/python3.8/dist-packages (from requests>=2.3.0->finance-datareader) (2.10)\n",
            "Requirement already satisfied: certifi>=2017.4.17 in /usr/local/lib/python3.8/dist-packages (from requests>=2.3.0->finance-datareader) (2022.12.7)\n",
            "Requirement already satisfied: chardet<5,>=3.0.2 in /usr/local/lib/python3.8/dist-packages (from requests>=2.3.0->finance-datareader) (4.0.0)\n",
            "Requirement already satisfied: six in /usr/local/lib/python3.8/dist-packages (from requests-file->finance-datareader) (1.15.0)\n",
            "Installing collected packages: requests-file, finance-datareader\n",
            "Successfully installed finance-datareader-0.9.50 requests-file-1.5.1\n"
          ]
        }
      ],
      "source": [
        "pip install finance-datareader"
      ]
    },
    {
      "cell_type": "code",
      "source": [
        "import FinanceDataReader as fdr\n",
        "\n",
        "#한국 주식\n",
        "krx = fdr.StockListing('KRX')"
      ],
      "metadata": {
        "id": "qBJf2q2qmGAw"
      },
      "execution_count": 2,
      "outputs": []
    },
    {
      "cell_type": "code",
      "source": [
        "krx"
      ],
      "metadata": {
        "colab": {
          "base_uri": "https://localhost:8080/",
          "height": 869
        },
        "id": "d-ce8k7OmsHH",
        "outputId": "8d9dad3f-c06c-48f3-a2da-89a148867653"
      },
      "execution_count": 3,
      "outputs": [
        {
          "output_type": "execute_result",
          "data": {
            "text/plain": [
              "        Code        ISU_CD      Name Market   Dept   Close ChangeCode  \\\n",
              "0     005930  KR7005930003      삼성전자  KOSPI          60400          2   \n",
              "1     373220  KR7373220003  LG에너지솔루션  KOSPI         458000          3   \n",
              "2     000660  KR7000660001    SK하이닉스  KOSPI          85100          2   \n",
              "3     207940  KR7207940008  삼성바이오로직스  KOSPI         793000          3   \n",
              "4     005935  KR7005931001     삼성전자우  KOSPI          54800          2   \n",
              "...      ...           ...       ...    ...    ...     ...        ...   \n",
              "2684  308700  KR7308700004       테크엔  KONEX  일반기업부     598          2   \n",
              "2685  215050  KR7215050006   비엔디생활건강  KONEX  일반기업부     912          0   \n",
              "2686  267810  KR7267810000        앙츠  KONEX  일반기업부    1000          2   \n",
              "2687  267060  KR7267060002     명진홀딩스  KONEX  일반기업부     181          0   \n",
              "2688  322190  KR7322190000        베른  KONEX  일반기업부     136          1   \n",
              "\n",
              "      Changes  ChagesRatio    Open    High     Low    Volume        Amount  \\\n",
              "0        -600        -0.98   60700   61000   59900  11584041  698509509800   \n",
              "1           0         0.00  464000  467000  454500    282241  130109721155   \n",
              "2        -900        -1.05   86400   86500   84500   1494262  127203930200   \n",
              "3           0         0.00  793000  795000  786000     48310   38203403000   \n",
              "4        -300        -0.54   55000   55200   54300    656456   35862301485   \n",
              "...       ...          ...     ...     ...     ...       ...           ...   \n",
              "2684      -14        -2.29       0       0       0         0             0   \n",
              "2685        0         0.00       0       0       0         0             0   \n",
              "2686      -30        -2.91    1030    1150    1000      2138       2204210   \n",
              "2687        0         0.00       0       0       0         0             0   \n",
              "2688        3         2.26     142     142     136       122         16608   \n",
              "\n",
              "               Marcap      Stocks MarketId  \n",
              "0     360574866020000  5969782550      STK  \n",
              "1     107172000000000   234000000      STK  \n",
              "2      61953001261500   728002365      STK  \n",
              "3      56440982000000    71174000      STK  \n",
              "4      45094191160000   822886700      STK  \n",
              "...               ...         ...      ...  \n",
              "2684       2392000000     4000000      KNX  \n",
              "2685       1934959392     2121666      KNX  \n",
              "2686       1787000000     1787000      KNX  \n",
              "2687       1654666524     9141804      KNX  \n",
              "2688       1213826792     8925197      KNX  \n",
              "\n",
              "[2689 rows x 17 columns]"
            ],
            "text/html": [
              "\n",
              "  <div id=\"df-2d2a47d5-7efe-49ac-bf44-62fb5a75590c\">\n",
              "    <div class=\"colab-df-container\">\n",
              "      <div>\n",
              "<style scoped>\n",
              "    .dataframe tbody tr th:only-of-type {\n",
              "        vertical-align: middle;\n",
              "    }\n",
              "\n",
              "    .dataframe tbody tr th {\n",
              "        vertical-align: top;\n",
              "    }\n",
              "\n",
              "    .dataframe thead th {\n",
              "        text-align: right;\n",
              "    }\n",
              "</style>\n",
              "<table border=\"1\" class=\"dataframe\">\n",
              "  <thead>\n",
              "    <tr style=\"text-align: right;\">\n",
              "      <th></th>\n",
              "      <th>Code</th>\n",
              "      <th>ISU_CD</th>\n",
              "      <th>Name</th>\n",
              "      <th>Market</th>\n",
              "      <th>Dept</th>\n",
              "      <th>Close</th>\n",
              "      <th>ChangeCode</th>\n",
              "      <th>Changes</th>\n",
              "      <th>ChagesRatio</th>\n",
              "      <th>Open</th>\n",
              "      <th>High</th>\n",
              "      <th>Low</th>\n",
              "      <th>Volume</th>\n",
              "      <th>Amount</th>\n",
              "      <th>Marcap</th>\n",
              "      <th>Stocks</th>\n",
              "      <th>MarketId</th>\n",
              "    </tr>\n",
              "  </thead>\n",
              "  <tbody>\n",
              "    <tr>\n",
              "      <th>0</th>\n",
              "      <td>005930</td>\n",
              "      <td>KR7005930003</td>\n",
              "      <td>삼성전자</td>\n",
              "      <td>KOSPI</td>\n",
              "      <td></td>\n",
              "      <td>60400</td>\n",
              "      <td>2</td>\n",
              "      <td>-600</td>\n",
              "      <td>-0.98</td>\n",
              "      <td>60700</td>\n",
              "      <td>61000</td>\n",
              "      <td>59900</td>\n",
              "      <td>11584041</td>\n",
              "      <td>698509509800</td>\n",
              "      <td>360574866020000</td>\n",
              "      <td>5969782550</td>\n",
              "      <td>STK</td>\n",
              "    </tr>\n",
              "    <tr>\n",
              "      <th>1</th>\n",
              "      <td>373220</td>\n",
              "      <td>KR7373220003</td>\n",
              "      <td>LG에너지솔루션</td>\n",
              "      <td>KOSPI</td>\n",
              "      <td></td>\n",
              "      <td>458000</td>\n",
              "      <td>3</td>\n",
              "      <td>0</td>\n",
              "      <td>0.00</td>\n",
              "      <td>464000</td>\n",
              "      <td>467000</td>\n",
              "      <td>454500</td>\n",
              "      <td>282241</td>\n",
              "      <td>130109721155</td>\n",
              "      <td>107172000000000</td>\n",
              "      <td>234000000</td>\n",
              "      <td>STK</td>\n",
              "    </tr>\n",
              "    <tr>\n",
              "      <th>2</th>\n",
              "      <td>000660</td>\n",
              "      <td>KR7000660001</td>\n",
              "      <td>SK하이닉스</td>\n",
              "      <td>KOSPI</td>\n",
              "      <td></td>\n",
              "      <td>85100</td>\n",
              "      <td>2</td>\n",
              "      <td>-900</td>\n",
              "      <td>-1.05</td>\n",
              "      <td>86400</td>\n",
              "      <td>86500</td>\n",
              "      <td>84500</td>\n",
              "      <td>1494262</td>\n",
              "      <td>127203930200</td>\n",
              "      <td>61953001261500</td>\n",
              "      <td>728002365</td>\n",
              "      <td>STK</td>\n",
              "    </tr>\n",
              "    <tr>\n",
              "      <th>3</th>\n",
              "      <td>207940</td>\n",
              "      <td>KR7207940008</td>\n",
              "      <td>삼성바이오로직스</td>\n",
              "      <td>KOSPI</td>\n",
              "      <td></td>\n",
              "      <td>793000</td>\n",
              "      <td>3</td>\n",
              "      <td>0</td>\n",
              "      <td>0.00</td>\n",
              "      <td>793000</td>\n",
              "      <td>795000</td>\n",
              "      <td>786000</td>\n",
              "      <td>48310</td>\n",
              "      <td>38203403000</td>\n",
              "      <td>56440982000000</td>\n",
              "      <td>71174000</td>\n",
              "      <td>STK</td>\n",
              "    </tr>\n",
              "    <tr>\n",
              "      <th>4</th>\n",
              "      <td>005935</td>\n",
              "      <td>KR7005931001</td>\n",
              "      <td>삼성전자우</td>\n",
              "      <td>KOSPI</td>\n",
              "      <td></td>\n",
              "      <td>54800</td>\n",
              "      <td>2</td>\n",
              "      <td>-300</td>\n",
              "      <td>-0.54</td>\n",
              "      <td>55000</td>\n",
              "      <td>55200</td>\n",
              "      <td>54300</td>\n",
              "      <td>656456</td>\n",
              "      <td>35862301485</td>\n",
              "      <td>45094191160000</td>\n",
              "      <td>822886700</td>\n",
              "      <td>STK</td>\n",
              "    </tr>\n",
              "    <tr>\n",
              "      <th>...</th>\n",
              "      <td>...</td>\n",
              "      <td>...</td>\n",
              "      <td>...</td>\n",
              "      <td>...</td>\n",
              "      <td>...</td>\n",
              "      <td>...</td>\n",
              "      <td>...</td>\n",
              "      <td>...</td>\n",
              "      <td>...</td>\n",
              "      <td>...</td>\n",
              "      <td>...</td>\n",
              "      <td>...</td>\n",
              "      <td>...</td>\n",
              "      <td>...</td>\n",
              "      <td>...</td>\n",
              "      <td>...</td>\n",
              "      <td>...</td>\n",
              "    </tr>\n",
              "    <tr>\n",
              "      <th>2684</th>\n",
              "      <td>308700</td>\n",
              "      <td>KR7308700004</td>\n",
              "      <td>테크엔</td>\n",
              "      <td>KONEX</td>\n",
              "      <td>일반기업부</td>\n",
              "      <td>598</td>\n",
              "      <td>2</td>\n",
              "      <td>-14</td>\n",
              "      <td>-2.29</td>\n",
              "      <td>0</td>\n",
              "      <td>0</td>\n",
              "      <td>0</td>\n",
              "      <td>0</td>\n",
              "      <td>0</td>\n",
              "      <td>2392000000</td>\n",
              "      <td>4000000</td>\n",
              "      <td>KNX</td>\n",
              "    </tr>\n",
              "    <tr>\n",
              "      <th>2685</th>\n",
              "      <td>215050</td>\n",
              "      <td>KR7215050006</td>\n",
              "      <td>비엔디생활건강</td>\n",
              "      <td>KONEX</td>\n",
              "      <td>일반기업부</td>\n",
              "      <td>912</td>\n",
              "      <td>0</td>\n",
              "      <td>0</td>\n",
              "      <td>0.00</td>\n",
              "      <td>0</td>\n",
              "      <td>0</td>\n",
              "      <td>0</td>\n",
              "      <td>0</td>\n",
              "      <td>0</td>\n",
              "      <td>1934959392</td>\n",
              "      <td>2121666</td>\n",
              "      <td>KNX</td>\n",
              "    </tr>\n",
              "    <tr>\n",
              "      <th>2686</th>\n",
              "      <td>267810</td>\n",
              "      <td>KR7267810000</td>\n",
              "      <td>앙츠</td>\n",
              "      <td>KONEX</td>\n",
              "      <td>일반기업부</td>\n",
              "      <td>1000</td>\n",
              "      <td>2</td>\n",
              "      <td>-30</td>\n",
              "      <td>-2.91</td>\n",
              "      <td>1030</td>\n",
              "      <td>1150</td>\n",
              "      <td>1000</td>\n",
              "      <td>2138</td>\n",
              "      <td>2204210</td>\n",
              "      <td>1787000000</td>\n",
              "      <td>1787000</td>\n",
              "      <td>KNX</td>\n",
              "    </tr>\n",
              "    <tr>\n",
              "      <th>2687</th>\n",
              "      <td>267060</td>\n",
              "      <td>KR7267060002</td>\n",
              "      <td>명진홀딩스</td>\n",
              "      <td>KONEX</td>\n",
              "      <td>일반기업부</td>\n",
              "      <td>181</td>\n",
              "      <td>0</td>\n",
              "      <td>0</td>\n",
              "      <td>0.00</td>\n",
              "      <td>0</td>\n",
              "      <td>0</td>\n",
              "      <td>0</td>\n",
              "      <td>0</td>\n",
              "      <td>0</td>\n",
              "      <td>1654666524</td>\n",
              "      <td>9141804</td>\n",
              "      <td>KNX</td>\n",
              "    </tr>\n",
              "    <tr>\n",
              "      <th>2688</th>\n",
              "      <td>322190</td>\n",
              "      <td>KR7322190000</td>\n",
              "      <td>베른</td>\n",
              "      <td>KONEX</td>\n",
              "      <td>일반기업부</td>\n",
              "      <td>136</td>\n",
              "      <td>1</td>\n",
              "      <td>3</td>\n",
              "      <td>2.26</td>\n",
              "      <td>142</td>\n",
              "      <td>142</td>\n",
              "      <td>136</td>\n",
              "      <td>122</td>\n",
              "      <td>16608</td>\n",
              "      <td>1213826792</td>\n",
              "      <td>8925197</td>\n",
              "      <td>KNX</td>\n",
              "    </tr>\n",
              "  </tbody>\n",
              "</table>\n",
              "<p>2689 rows × 17 columns</p>\n",
              "</div>\n",
              "      <button class=\"colab-df-convert\" onclick=\"convertToInteractive('df-2d2a47d5-7efe-49ac-bf44-62fb5a75590c')\"\n",
              "              title=\"Convert this dataframe to an interactive table.\"\n",
              "              style=\"display:none;\">\n",
              "        \n",
              "  <svg xmlns=\"http://www.w3.org/2000/svg\" height=\"24px\"viewBox=\"0 0 24 24\"\n",
              "       width=\"24px\">\n",
              "    <path d=\"M0 0h24v24H0V0z\" fill=\"none\"/>\n",
              "    <path d=\"M18.56 5.44l.94 2.06.94-2.06 2.06-.94-2.06-.94-.94-2.06-.94 2.06-2.06.94zm-11 1L8.5 8.5l.94-2.06 2.06-.94-2.06-.94L8.5 2.5l-.94 2.06-2.06.94zm10 10l.94 2.06.94-2.06 2.06-.94-2.06-.94-.94-2.06-.94 2.06-2.06.94z\"/><path d=\"M17.41 7.96l-1.37-1.37c-.4-.4-.92-.59-1.43-.59-.52 0-1.04.2-1.43.59L10.3 9.45l-7.72 7.72c-.78.78-.78 2.05 0 2.83L4 21.41c.39.39.9.59 1.41.59.51 0 1.02-.2 1.41-.59l7.78-7.78 2.81-2.81c.8-.78.8-2.07 0-2.86zM5.41 20L4 18.59l7.72-7.72 1.47 1.35L5.41 20z\"/>\n",
              "  </svg>\n",
              "      </button>\n",
              "      \n",
              "  <style>\n",
              "    .colab-df-container {\n",
              "      display:flex;\n",
              "      flex-wrap:wrap;\n",
              "      gap: 12px;\n",
              "    }\n",
              "\n",
              "    .colab-df-convert {\n",
              "      background-color: #E8F0FE;\n",
              "      border: none;\n",
              "      border-radius: 50%;\n",
              "      cursor: pointer;\n",
              "      display: none;\n",
              "      fill: #1967D2;\n",
              "      height: 32px;\n",
              "      padding: 0 0 0 0;\n",
              "      width: 32px;\n",
              "    }\n",
              "\n",
              "    .colab-df-convert:hover {\n",
              "      background-color: #E2EBFA;\n",
              "      box-shadow: 0px 1px 2px rgba(60, 64, 67, 0.3), 0px 1px 3px 1px rgba(60, 64, 67, 0.15);\n",
              "      fill: #174EA6;\n",
              "    }\n",
              "\n",
              "    [theme=dark] .colab-df-convert {\n",
              "      background-color: #3B4455;\n",
              "      fill: #D2E3FC;\n",
              "    }\n",
              "\n",
              "    [theme=dark] .colab-df-convert:hover {\n",
              "      background-color: #434B5C;\n",
              "      box-shadow: 0px 1px 3px 1px rgba(0, 0, 0, 0.15);\n",
              "      filter: drop-shadow(0px 1px 2px rgba(0, 0, 0, 0.3));\n",
              "      fill: #FFFFFF;\n",
              "    }\n",
              "  </style>\n",
              "\n",
              "      <script>\n",
              "        const buttonEl =\n",
              "          document.querySelector('#df-2d2a47d5-7efe-49ac-bf44-62fb5a75590c button.colab-df-convert');\n",
              "        buttonEl.style.display =\n",
              "          google.colab.kernel.accessAllowed ? 'block' : 'none';\n",
              "\n",
              "        async function convertToInteractive(key) {\n",
              "          const element = document.querySelector('#df-2d2a47d5-7efe-49ac-bf44-62fb5a75590c');\n",
              "          const dataTable =\n",
              "            await google.colab.kernel.invokeFunction('convertToInteractive',\n",
              "                                                     [key], {});\n",
              "          if (!dataTable) return;\n",
              "\n",
              "          const docLinkHtml = 'Like what you see? Visit the ' +\n",
              "            '<a target=\"_blank\" href=https://colab.research.google.com/notebooks/data_table.ipynb>data table notebook</a>'\n",
              "            + ' to learn more about interactive tables.';\n",
              "          element.innerHTML = '';\n",
              "          dataTable['output_type'] = 'display_data';\n",
              "          await google.colab.output.renderOutput(dataTable, element);\n",
              "          const docLink = document.createElement('div');\n",
              "          docLink.innerHTML = docLinkHtml;\n",
              "          element.appendChild(docLink);\n",
              "        }\n",
              "      </script>\n",
              "    </div>\n",
              "  </div>\n",
              "  "
            ]
          },
          "metadata": {},
          "execution_count": 3
        }
      ]
    },
    {
      "cell_type": "code",
      "source": [
        "krx.info()"
      ],
      "metadata": {
        "colab": {
          "base_uri": "https://localhost:8080/"
        },
        "id": "VZkZ1mTXmtwH",
        "outputId": "4a7722ef-1f17-4599-e38a-5e5f44fe0d36"
      },
      "execution_count": 4,
      "outputs": [
        {
          "output_type": "stream",
          "name": "stdout",
          "text": [
            "<class 'pandas.core.frame.DataFrame'>\n",
            "RangeIndex: 2689 entries, 0 to 2688\n",
            "Data columns (total 17 columns):\n",
            " #   Column       Non-Null Count  Dtype  \n",
            "---  ------       --------------  -----  \n",
            " 0   Code         2689 non-null   object \n",
            " 1   ISU_CD       2689 non-null   object \n",
            " 2   Name         2689 non-null   object \n",
            " 3   Market       2689 non-null   object \n",
            " 4   Dept         2689 non-null   object \n",
            " 5   Close        2689 non-null   object \n",
            " 6   ChangeCode   2689 non-null   object \n",
            " 7   Changes      2689 non-null   int64  \n",
            " 8   ChagesRatio  2689 non-null   float64\n",
            " 9   Open         2689 non-null   int64  \n",
            " 10  High         2689 non-null   int64  \n",
            " 11  Low          2689 non-null   int64  \n",
            " 12  Volume       2689 non-null   int64  \n",
            " 13  Amount       2689 non-null   int64  \n",
            " 14  Marcap       2689 non-null   int64  \n",
            " 15  Stocks       2689 non-null   int64  \n",
            " 16  MarketId     2689 non-null   object \n",
            "dtypes: float64(1), int64(8), object(8)\n",
            "memory usage: 357.3+ KB\n"
          ]
        }
      ]
    },
    {
      "cell_type": "code",
      "source": [
        "df = fdr.DataReader('005930', '2022')"
      ],
      "metadata": {
        "id": "jqqw-Igsm4EH"
      },
      "execution_count": 5,
      "outputs": []
    },
    {
      "cell_type": "code",
      "source": [
        "df['Close'].plot()"
      ],
      "metadata": {
        "colab": {
          "base_uri": "https://localhost:8080/",
          "height": 298
        },
        "id": "_FQ-Apt1nkKw",
        "outputId": "f5d06532-442d-483a-879b-6d103f2b2dba"
      },
      "execution_count": 9,
      "outputs": [
        {
          "output_type": "execute_result",
          "data": {
            "text/plain": [
              "<matplotlib.axes._subplots.AxesSubplot at 0x7ff1b1589d90>"
            ]
          },
          "metadata": {},
          "execution_count": 9
        },
        {
          "output_type": "display_data",
          "data": {
            "text/plain": [
              "<Figure size 432x288 with 1 Axes>"
            ],
            "image/png": "[encoded data removed]"
          },
          "metadata": {
            "needs_background": "light"
          }
        }
      ]
    },
    {
      "cell_type": "code",
      "source": [
        "##하이닉스 2013년~2019년\n",
        "\n",
        "fdr.DataReader('000660', '2013-01-01', '2019-12-31')"
      ],
      "metadata": {
        "colab": {
          "base_uri": "https://localhost:8080/",
          "height": 455
        },
        "id": "YRx_aa_YnIqs",
        "outputId": "69e0e9b9-bc28-437e-fcf5-267346fc0080"
      },
      "execution_count": 7,
      "outputs": [
        {
          "output_type": "execute_result",
          "data": {
            "text/plain": [
              "             Open   High    Low  Close   Volume    Change\n",
              "Date                                                     \n",
              "2013-01-02  26150  26650  26100  26600  5151547  0.033010\n",
              "2013-01-03  26900  27100  26400  26650  4587780  0.001880\n",
              "2013-01-04  26800  26900  26200  26350  4856327 -0.011257\n",
              "2013-01-07  26400  26450  25650  25900  4283105 -0.017078\n",
              "2013-01-08  26050  26550  25950  26250  3468081  0.013514\n",
              "...           ...    ...    ...    ...      ...       ...\n",
              "2019-12-23  95800  96200  94100  94600  1720279 -0.004211\n",
              "2019-12-24  95000  95600  93800  93800  1464093 -0.008457\n",
              "2019-12-26  94000  95100  93500  94800  1559839  0.010661\n",
              "2019-12-27  94800  97000  94200  96000  2229470  0.012658\n",
              "2019-12-30  95600  96300  94100  94100  1862634 -0.019792\n",
              "\n",
              "[1719 rows x 6 columns]"
            ],
            "text/html": [
              "\n",
              "  <div id=\"df-78f0773b-bfa9-4b02-a847-3fb31300d31b\">\n",
              "    <div class=\"colab-df-container\">\n",
              "      <div>\n",
              "<style scoped>\n",
              "    .dataframe tbody tr th:only-of-type {\n",
              "        vertical-align: middle;\n",
              "    }\n",
              "\n",
              "    .dataframe tbody tr th {\n",
              "        vertical-align: top;\n",
              "    }\n",
              "\n",
              "    .dataframe thead th {\n",
              "        text-align: right;\n",
              "    }\n",
              "</style>\n",
              "<table border=\"1\" class=\"dataframe\">\n",
              "  <thead>\n",
              "    <tr style=\"text-align: right;\">\n",
              "      <th></th>\n",
              "      <th>Open</th>\n",
              "      <th>High</th>\n",
              "      <th>Low</th>\n",
              "      <th>Close</th>\n",
              "      <th>Volume</th>\n",
              "      <th>Change</th>\n",
              "    </tr>\n",
              "    <tr>\n",
              "      <th>Date</th>\n",
              "      <th></th>\n",
              "      <th></th>\n",
              "      <th></th>\n",
              "      <th></th>\n",
              "      <th></th>\n",
              "      <th></th>\n",
              "    </tr>\n",
              "  </thead>\n",
              "  <tbody>\n",
              "    <tr>\n",
              "      <th>2013-01-02</th>\n",
              "      <td>26150</td>\n",
              "      <td>26650</td>\n",
              "      <td>26100</td>\n",
              "      <td>26600</td>\n",
              "      <td>5151547</td>\n",
              "      <td>0.033010</td>\n",
              "    </tr>\n",
              "    <tr>\n",
              "      <th>2013-01-03</th>\n",
              "      <td>26900</td>\n",
              "      <td>27100</td>\n",
              "      <td>26400</td>\n",
              "      <td>26650</td>\n",
              "      <td>4587780</td>\n",
              "      <td>0.001880</td>\n",
              "    </tr>\n",
              "    <tr>\n",
              "      <th>2013-01-04</th>\n",
              "      <td>26800</td>\n",
              "      <td>26900</td>\n",
              "      <td>26200</td>\n",
              "      <td>26350</td>\n",
              "      <td>4856327</td>\n",
              "      <td>-0.011257</td>\n",
              "    </tr>\n",
              "    <tr>\n",
              "      <th>2013-01-07</th>\n",
              "      <td>26400</td>\n",
              "      <td>26450</td>\n",
              "      <td>25650</td>\n",
              "      <td>25900</td>\n",
              "      <td>4283105</td>\n",
              "      <td>-0.017078</td>\n",
              "    </tr>\n",
              "    <tr>\n",
              "      <th>2013-01-08</th>\n",
              "      <td>26050</td>\n",
              "      <td>26550</td>\n",
              "      <td>25950</td>\n",
              "      <td>26250</td>\n",
              "      <td>3468081</td>\n",
              "      <td>0.013514</td>\n",
              "    </tr>\n",
              "    <tr>\n",
              "      <th>...</th>\n",
              "      <td>...</td>\n",
              "      <td>...</td>\n",
              "      <td>...</td>\n",
              "      <td>...</td>\n",
              "      <td>...</td>\n",
              "      <td>...</td>\n",
              "    </tr>\n",
              "    <tr>\n",
              "      <th>2019-12-23</th>\n",
              "      <td>95800</td>\n",
              "      <td>96200</td>\n",
              "      <td>94100</td>\n",
              "      <td>94600</td>\n",
              "      <td>1720279</td>\n",
              "      <td>-0.004211</td>\n",
              "    </tr>\n",
              "    <tr>\n",
              "      <th>2019-12-24</th>\n",
              "      <td>95000</td>\n",
              "      <td>95600</td>\n",
              "      <td>93800</td>\n",
              "      <td>93800</td>\n",
              "      <td>1464093</td>\n",
              "      <td>-0.008457</td>\n",
              "    </tr>\n",
              "    <tr>\n",
              "      <th>2019-12-26</th>\n",
              "      <td>94000</td>\n",
              "      <td>95100</td>\n",
              "      <td>93500</td>\n",
              "      <td>94800</td>\n",
              "      <td>1559839</td>\n",
              "      <td>0.010661</td>\n",
              "    </tr>\n",
              "    <tr>\n",
              "      <th>2019-12-27</th>\n",
              "      <td>94800</td>\n",
              "      <td>97000</td>\n",
              "      <td>94200</td>\n",
              "      <td>96000</td>\n",
              "      <td>2229470</td>\n",
              "      <td>0.012658</td>\n",
              "    </tr>\n",
              "    <tr>\n",
              "      <th>2019-12-30</th>\n",
              "      <td>95600</td>\n",
              "      <td>96300</td>\n",
              "      <td>94100</td>\n",
              "      <td>94100</td>\n",
              "      <td>1862634</td>\n",
              "      <td>-0.019792</td>\n",
              "    </tr>\n",
              "  </tbody>\n",
              "</table>\n",
              "<p>1719 rows × 6 columns</p>\n",
              "</div>\n",
              "      <button class=\"colab-df-convert\" onclick=\"convertToInteractive('df-78f0773b-bfa9-4b02-a847-3fb31300d31b')\"\n",
              "              title=\"Convert this dataframe to an interactive table.\"\n",
              "              style=\"display:none;\">\n",
              "        \n",
              "  <svg xmlns=\"http://www.w3.org/2000/svg\" height=\"24px\"viewBox=\"0 0 24 24\"\n",
              "       width=\"24px\">\n",
              "    <path d=\"M0 0h24v24H0V0z\" fill=\"none\"/>\n",
              "    <path d=\"M18.56 5.44l.94 2.06.94-2.06 2.06-.94-2.06-.94-.94-2.06-.94 2.06-2.06.94zm-11 1L8.5 8.5l.94-2.06 2.06-.94-2.06-.94L8.5 2.5l-.94 2.06-2.06.94zm10 10l.94 2.06.94-2.06 2.06-.94-2.06-.94-.94-2.06-.94 2.06-2.06.94z\"/><path d=\"M17.41 7.96l-1.37-1.37c-.4-.4-.92-.59-1.43-.59-.52 0-1.04.2-1.43.59L10.3 9.45l-7.72 7.72c-.78.78-.78 2.05 0 2.83L4 21.41c.39.39.9.59 1.41.59.51 0 1.02-.2 1.41-.59l7.78-7.78 2.81-2.81c.8-.78.8-2.07 0-2.86zM5.41 20L4 18.59l7.72-7.72 1.47 1.35L5.41 20z\"/>\n",
              "  </svg>\n",
              "      </button>\n",
              "      \n",
              "  <style>\n",
              "    .colab-df-container {\n",
              "      display:flex;\n",
              "      flex-wrap:wrap;\n",
              "      gap: 12px;\n",
              "    }\n",
              "\n",
              "    .colab-df-convert {\n",
              "      background-color: #E8F0FE;\n",
              "      border: none;\n",
              "      border-radius: 50%;\n",
              "      cursor: pointer;\n",
              "      display: none;\n",
              "      fill: #1967D2;\n",
              "      height: 32px;\n",
              "      padding: 0 0 0 0;\n",
              "      width: 32px;\n",
              "    }\n",
              "\n",
              "    .colab-df-convert:hover {\n",
              "      background-color: #E2EBFA;\n",
              "      box-shadow: 0px 1px 2px rgba(60, 64, 67, 0.3), 0px 1px 3px 1px rgba(60, 64, 67, 0.15);\n",
              "      fill: #174EA6;\n",
              "    }\n",
              "\n",
              "    [theme=dark] .colab-df-convert {\n",
              "      background-color: #3B4455;\n",
              "      fill: #D2E3FC;\n",
              "    }\n",
              "\n",
              "    [theme=dark] .colab-df-convert:hover {\n",
              "      background-color: #434B5C;\n",
              "      box-shadow: 0px 1px 3px 1px rgba(0, 0, 0, 0.15);\n",
              "      filter: drop-shadow(0px 1px 2px rgba(0, 0, 0, 0.3));\n",
              "      fill: #FFFFFF;\n",
              "    }\n",
              "  </style>\n",
              "\n",
              "      <script>\n",
              "        const buttonEl =\n",
              "          document.querySelector('#df-78f0773b-bfa9-4b02-a847-3fb31300d31b button.colab-df-convert');\n",
              "        buttonEl.style.display =\n",
              "          google.colab.kernel.accessAllowed ? 'block' : 'none';\n",
              "\n",
              "        async function convertToInteractive(key) {\n",
              "          const element = document.querySelector('#df-78f0773b-bfa9-4b02-a847-3fb31300d31b');\n",
              "          const dataTable =\n",
              "            await google.colab.kernel.invokeFunction('convertToInteractive',\n",
              "                                                     [key], {});\n",
              "          if (!dataTable) return;\n",
              "\n",
              "          const docLinkHtml = 'Like what you see? Visit the ' +\n",
              "            '<a target=\"_blank\" href=https://colab.research.google.com/notebooks/data_table.ipynb>data table notebook</a>'\n",
              "            + ' to learn more about interactive tables.';\n",
              "          element.innerHTML = '';\n",
              "          dataTable['output_type'] = 'display_data';\n",
              "          await google.colab.output.renderOutput(dataTable, element);\n",
              "          const docLink = document.createElement('div');\n",
              "          docLink.innerHTML = docLinkHtml;\n",
              "          element.appendChild(docLink);\n",
              "        }\n",
              "      </script>\n",
              "    </div>\n",
              "  </div>\n",
              "  "
            ]
          },
          "metadata": {},
          "execution_count": 7
        }
      ]
    },
    {
      "cell_type": "code",
      "source": [
        "# KS11 (KOSPI 지수), 2015년~현재\n",
        "\n",
        "df = fdr.DataReader('KS11', '2015')\n"
      ],
      "metadata": {
        "id": "d4fz9f9ZnJbr"
      },
      "execution_count": 10,
      "outputs": []
    },
    {
      "cell_type": "code",
      "source": [
        "df"
      ],
      "metadata": {
        "colab": {
          "base_uri": "https://localhost:8080/",
          "height": 455
        },
        "id": "dkbi_zkunzLd",
        "outputId": "37eca8ef-2fc7-4b31-d8c3-e6640c0c52cb"
      },
      "execution_count": 11,
      "outputs": [
        {
          "output_type": "execute_result",
          "data": {
            "text/plain": [
              "                   Open         High          Low        Close    Adj Close  \\\n",
              "Date                                                                          \n",
              "2015-01-02  1914.239990  1929.150024  1909.670044  1926.439941  1926.439941   \n",
              "2015-01-05  1921.959961  1921.959961  1903.369995  1915.750000  1915.750000   \n",
              "2015-01-06  1895.479980  1900.020020  1877.380005  1882.449951  1882.449951   \n",
              "2015-01-07  1878.900024  1887.599976  1876.270020  1883.829956  1883.829956   \n",
              "2015-01-08  1895.849976  1907.229980  1891.770020  1904.650024  1904.650024   \n",
              "...                 ...          ...          ...          ...          ...   \n",
              "2023-01-12  2376.719971  2377.800049  2358.330078  2365.100098  2365.100098   \n",
              "2023-01-13  2377.340088  2397.010010  2375.780029  2386.090088  2386.090088   \n",
              "2023-01-16  2390.060059  2410.219971  2387.610107  2399.860107  2399.860107   \n",
              "2023-01-17  2400.919922  2404.000000  2374.649902  2379.389893  2379.389893   \n",
              "2023-01-18  2380.360107  2383.000000  2356.840088  2368.320068  2368.320068   \n",
              "\n",
              "              Volume  \n",
              "Date                  \n",
              "2015-01-02  258800.0  \n",
              "2015-01-05  313400.0  \n",
              "2015-01-06  303700.0  \n",
              "2015-01-07  280500.0  \n",
              "2015-01-08  262200.0  \n",
              "...              ...  \n",
              "2023-01-12  580100.0  \n",
              "2023-01-13  861700.0  \n",
              "2023-01-16  517800.0  \n",
              "2023-01-17  536000.0  \n",
              "2023-01-18  537392.0  \n",
              "\n",
              "[1979 rows x 6 columns]"
            ],
            "text/html": [
              "\n",
              "  <div id=\"df-4d1bd7db-f64c-4d4e-b077-585f666531d4\">\n",
              "    <div class=\"colab-df-container\">\n",
              "      <div>\n",
              "<style scoped>\n",
              "    .dataframe tbody tr th:only-of-type {\n",
              "        vertical-align: middle;\n",
              "    }\n",
              "\n",
              "    .dataframe tbody tr th {\n",
              "        vertical-align: top;\n",
              "    }\n",
              "\n",
              "    .dataframe thead th {\n",
              "        text-align: right;\n",
              "    }\n",
              "</style>\n",
              "<table border=\"1\" class=\"dataframe\">\n",
              "  <thead>\n",
              "    <tr style=\"text-align: right;\">\n",
              "      <th></th>\n",
              "      <th>Open</th>\n",
              "      <th>High</th>\n",
              "      <th>Low</th>\n",
              "      <th>Close</th>\n",
              "      <th>Adj Close</th>\n",
              "      <th>Volume</th>\n",
              "    </tr>\n",
              "    <tr>\n",
              "      <th>Date</th>\n",
              "      <th></th>\n",
              "      <th></th>\n",
              "      <th></th>\n",
              "      <th></th>\n",
              "      <th></th>\n",
              "      <th></th>\n",
              "    </tr>\n",
              "  </thead>\n",
              "  <tbody>\n",
              "    <tr>\n",
              "      <th>2015-01-02</th>\n",
              "      <td>1914.239990</td>\n",
              "      <td>1929.150024</td>\n",
              "      <td>1909.670044</td>\n",
              "      <td>1926.439941</td>\n",
              "      <td>1926.439941</td>\n",
              "      <td>258800.0</td>\n",
              "    </tr>\n",
              "    <tr>\n",
              "      <th>2015-01-05</th>\n",
              "      <td>1921.959961</td>\n",
              "      <td>1921.959961</td>\n",
              "      <td>1903.369995</td>\n",
              "      <td>1915.750000</td>\n",
              "      <td>1915.750000</td>\n",
              "      <td>313400.0</td>\n",
              "    </tr>\n",
              "    <tr>\n",
              "      <th>2015-01-06</th>\n",
              "      <td>1895.479980</td>\n",
              "      <td>1900.020020</td>\n",
              "      <td>1877.380005</td>\n",
              "      <td>1882.449951</td>\n",
              "      <td>1882.449951</td>\n",
              "      <td>303700.0</td>\n",
              "    </tr>\n",
              "    <tr>\n",
              "      <th>2015-01-07</th>\n",
              "      <td>1878.900024</td>\n",
              "      <td>1887.599976</td>\n",
              "      <td>1876.270020</td>\n",
              "      <td>1883.829956</td>\n",
              "      <td>1883.829956</td>\n",
              "      <td>280500.0</td>\n",
              "    </tr>\n",
              "    <tr>\n",
              "      <th>2015-01-08</th>\n",
              "      <td>1895.849976</td>\n",
              "      <td>1907.229980</td>\n",
              "      <td>1891.770020</td>\n",
              "      <td>1904.650024</td>\n",
              "      <td>1904.650024</td>\n",
              "      <td>262200.0</td>\n",
              "    </tr>\n",
              "    <tr>\n",
              "      <th>...</th>\n",
              "      <td>...</td>\n",
              "      <td>...</td>\n",
              "      <td>...</td>\n",
              "      <td>...</td>\n",
              "      <td>...</td>\n",
              "      <td>...</td>\n",
              "    </tr>\n",
              "    <tr>\n",
              "      <th>2023-01-12</th>\n",
              "      <td>2376.719971</td>\n",
              "      <td>2377.800049</td>\n",
              "      <td>2358.330078</td>\n",
              "      <td>2365.100098</td>\n",
              "      <td>2365.100098</td>\n",
              "      <td>580100.0</td>\n",
              "    </tr>\n",
              "    <tr>\n",
              "      <th>2023-01-13</th>\n",
              "      <td>2377.340088</td>\n",
              "      <td>2397.010010</td>\n",
              "      <td>2375.780029</td>\n",
              "      <td>2386.090088</td>\n",
              "      <td>2386.090088</td>\n",
              "      <td>861700.0</td>\n",
              "    </tr>\n",
              "    <tr>\n",
              "      <th>2023-01-16</th>\n",
              "      <td>2390.060059</td>\n",
              "      <td>2410.219971</td>\n",
              "      <td>2387.610107</td>\n",
              "      <td>2399.860107</td>\n",
              "      <td>2399.860107</td>\n",
              "      <td>517800.0</td>\n",
              "    </tr>\n",
              "    <tr>\n",
              "      <th>2023-01-17</th>\n",
              "      <td>2400.919922</td>\n",
              "      <td>2404.000000</td>\n",
              "      <td>2374.649902</td>\n",
              "      <td>2379.389893</td>\n",
              "      <td>2379.389893</td>\n",
              "      <td>536000.0</td>\n",
              "    </tr>\n",
              "    <tr>\n",
              "      <th>2023-01-18</th>\n",
              "      <td>2380.360107</td>\n",
              "      <td>2383.000000</td>\n",
              "      <td>2356.840088</td>\n",
              "      <td>2368.320068</td>\n",
              "      <td>2368.320068</td>\n",
              "      <td>537392.0</td>\n",
              "    </tr>\n",
              "  </tbody>\n",
              "</table>\n",
              "<p>1979 rows × 6 columns</p>\n",
              "</div>\n",
              "      <button class=\"colab-df-convert\" onclick=\"convertToInteractive('df-4d1bd7db-f64c-4d4e-b077-585f666531d4')\"\n",
              "              title=\"Convert this dataframe to an interactive table.\"\n",
              "              style=\"display:none;\">\n",
              "        \n",
              "  <svg xmlns=\"http://www.w3.org/2000/svg\" height=\"24px\"viewBox=\"0 0 24 24\"\n",
              "       width=\"24px\">\n",
              "    <path d=\"M0 0h24v24H0V0z\" fill=\"none\"/>\n",
              "    <path d=\"M18.56 5.44l.94 2.06.94-2.06 2.06-.94-2.06-.94-.94-2.06-.94 2.06-2.06.94zm-11 1L8.5 8.5l.94-2.06 2.06-.94-2.06-.94L8.5 2.5l-.94 2.06-2.06.94zm10 10l.94 2.06.94-2.06 2.06-.94-2.06-.94-.94-2.06-.94 2.06-2.06.94z\"/><path d=\"M17.41 7.96l-1.37-1.37c-.4-.4-.92-.59-1.43-.59-.52 0-1.04.2-1.43.59L10.3 9.45l-7.72 7.72c-.78.78-.78 2.05 0 2.83L4 21.41c.39.39.9.59 1.41.59.51 0 1.02-.2 1.41-.59l7.78-7.78 2.81-2.81c.8-.78.8-2.07 0-2.86zM5.41 20L4 18.59l7.72-7.72 1.47 1.35L5.41 20z\"/>\n",
              "  </svg>\n",
              "      </button>\n",
              "      \n",
              "  <style>\n",
              "    .colab-df-container {\n",
              "      display:flex;\n",
              "      flex-wrap:wrap;\n",
              "      gap: 12px;\n",
              "    }\n",
              "\n",
              "    .colab-df-convert {\n",
              "      background-color: #E8F0FE;\n",
              "      border: none;\n",
              "      border-radius: 50%;\n",
              "      cursor: pointer;\n",
              "      display: none;\n",
              "      fill: #1967D2;\n",
              "      height: 32px;\n",
              "      padding: 0 0 0 0;\n",
              "      width: 32px;\n",
              "    }\n",
              "\n",
              "    .colab-df-convert:hover {\n",
              "      background-color: #E2EBFA;\n",
              "      box-shadow: 0px 1px 2px rgba(60, 64, 67, 0.3), 0px 1px 3px 1px rgba(60, 64, 67, 0.15);\n",
              "      fill: #174EA6;\n",
              "    }\n",
              "\n",
              "    [theme=dark] .colab-df-convert {\n",
              "      background-color: #3B4455;\n",
              "      fill: #D2E3FC;\n",
              "    }\n",
              "\n",
              "    [theme=dark] .colab-df-convert:hover {\n",
              "      background-color: #434B5C;\n",
              "      box-shadow: 0px 1px 3px 1px rgba(0, 0, 0, 0.15);\n",
              "      filter: drop-shadow(0px 1px 2px rgba(0, 0, 0, 0.3));\n",
              "      fill: #FFFFFF;\n",
              "    }\n",
              "  </style>\n",
              "\n",
              "      <script>\n",
              "        const buttonEl =\n",
              "          document.querySelector('#df-4d1bd7db-f64c-4d4e-b077-585f666531d4 button.colab-df-convert');\n",
              "        buttonEl.style.display =\n",
              "          google.colab.kernel.accessAllowed ? 'block' : 'none';\n",
              "\n",
              "        async function convertToInteractive(key) {\n",
              "          const element = document.querySelector('#df-4d1bd7db-f64c-4d4e-b077-585f666531d4');\n",
              "          const dataTable =\n",
              "            await google.colab.kernel.invokeFunction('convertToInteractive',\n",
              "                                                     [key], {});\n",
              "          if (!dataTable) return;\n",
              "\n",
              "          const docLinkHtml = 'Like what you see? Visit the ' +\n",
              "            '<a target=\"_blank\" href=https://colab.research.google.com/notebooks/data_table.ipynb>data table notebook</a>'\n",
              "            + ' to learn more about interactive tables.';\n",
              "          element.innerHTML = '';\n",
              "          dataTable['output_type'] = 'display_data';\n",
              "          await google.colab.output.renderOutput(dataTable, element);\n",
              "          const docLink = document.createElement('div');\n",
              "          docLink.innerHTML = docLinkHtml;\n",
              "          element.appendChild(docLink);\n",
              "        }\n",
              "      </script>\n",
              "    </div>\n",
              "  </div>\n",
              "  "
            ]
          },
          "metadata": {},
          "execution_count": 11
        }
      ]
    },
    {
      "cell_type": "code",
      "source": [
        "# 애플(AAPL), 2018\n",
        " \n",
        "df = fdr.DataReader('AAPL', '2022-01-01', '2022-12-30')\n",
        "df['Close'].plot()"
      ],
      "metadata": {
        "colab": {
          "base_uri": "https://localhost:8080/",
          "height": 295
        },
        "id": "6K1fM1VVnzyP",
        "outputId": "f665c2a2-72f3-4ab4-eaac-d28f0a1933e1"
      },
      "execution_count": 15,
      "outputs": [
        {
          "output_type": "execute_result",
          "data": {
            "text/plain": [
              "<matplotlib.axes._subplots.AxesSubplot at 0x7ff1b1375af0>"
            ]
          },
          "metadata": {},
          "execution_count": 15
        },
        {
          "output_type": "display_data",
          "data": {
            "text/plain": [
              "<Figure size 432x288 with 1 Axes>"
            ],
            "image/png": "[encoded data removed]"
          },
          "metadata": {
            "needs_background": "light"
          }
        }
      ]
    },
    {
      "cell_type": "markdown",
      "source": [
        "이런 나한테 가장 효율적인 장기투자는 뭘까?"
      ],
      "metadata": {
        "id": "C9M1B6QGoezo"
      }
    },
    {
      "cell_type": "markdown",
      "source": [
        "#1. 수면매매\n",
        "\n",
        "![image.png](data:image/png;base64,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)"
      ],
      "metadata": {
        "id": "Do6Kuq2SojMx"
      }
    },
    {
      "cell_type": "markdown",
      "source": [
        "가설 : 진짜 우량주를 사면 우상향 해왔을까?"
      ],
      "metadata": {
        "id": "nJ3vNi7CorkF"
      }
    },
    {
      "cell_type": "code",
      "source": [
        "krx.info()"
      ],
      "metadata": {
        "colab": {
          "base_uri": "https://localhost:8080/"
        },
        "id": "OhOkD8Nan9OC",
        "outputId": "467497d7-eed7-4d86-db44-6e0ae44ef600"
      },
      "execution_count": 16,
      "outputs": [
        {
          "output_type": "stream",
          "name": "stdout",
          "text": [
            "<class 'pandas.core.frame.DataFrame'>\n",
            "RangeIndex: 2689 entries, 0 to 2688\n",
            "Data columns (total 17 columns):\n",
            " #   Column       Non-Null Count  Dtype  \n",
            "---  ------       --------------  -----  \n",
            " 0   Code         2689 non-null   object \n",
            " 1   ISU_CD       2689 non-null   object \n",
            " 2   Name         2689 non-null   object \n",
            " 3   Market       2689 non-null   object \n",
            " 4   Dept         2689 non-null   object \n",
            " 5   Close        2689 non-null   object \n",
            " 6   ChangeCode   2689 non-null   object \n",
            " 7   Changes      2689 non-null   int64  \n",
            " 8   ChagesRatio  2689 non-null   float64\n",
            " 9   Open         2689 non-null   int64  \n",
            " 10  High         2689 non-null   int64  \n",
            " 11  Low          2689 non-null   int64  \n",
            " 12  Volume       2689 non-null   int64  \n",
            " 13  Amount       2689 non-null   int64  \n",
            " 14  Marcap       2689 non-null   int64  \n",
            " 15  Stocks       2689 non-null   int64  \n",
            " 16  MarketId     2689 non-null   object \n",
            "dtypes: float64(1), int64(8), object(8)\n",
            "memory usage: 357.3+ KB\n"
          ]
        }
      ]
    },
    {
      "cell_type": "markdown",
      "source": [
        "### 25년전\n",
        "\n",
        "# ![image.png](data:image/png;base64,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)"
      ],
      "metadata": {
        "id": "NGdNI63kozw_"
      }
    },
    {
      "cell_type": "code",
      "source": [
        "#종목 이름에 따른 코드 찾기\n",
        "def find_code(x):\n",
        "  temp = krx.loc[krx['Name'] == x, 'Code'].iloc[0]\n",
        "  return temp"
      ],
      "metadata": {
        "id": "-flgRzqkov-J"
      },
      "execution_count": 17,
      "outputs": []
    },
    {
      "cell_type": "code",
      "source": [
        "import pandas as pd"
      ],
      "metadata": {
        "id": "H8q1I8m9o7PQ"
      },
      "execution_count": 18,
      "outputs": []
    },
    {
      "cell_type": "code",
      "source": [
        "stock_name_98 = ['한국전력', '삼성전자', 'POSCO홀딩스', 'KT', '대우조선해양', 'LG전자', '현대건설', '신한지주']"
      ],
      "metadata": {
        "id": "GW8AxBpepDym"
      },
      "execution_count": 19,
      "outputs": []
    },
    {
      "cell_type": "code",
      "source": [
        "df_top_98 = pd.DataFrame()"
      ],
      "metadata": {
        "id": "Iq-KCCU7pE33"
      },
      "execution_count": 20,
      "outputs": []
    },
    {
      "cell_type": "code",
      "source": [
        "for name in stock_name_98:\n",
        "  df = fdr.DataReader(find_code(name), '1998-01-01', '2021-12-31')['Close']\n",
        "\n",
        "  df_top_98[name] = df"
      ],
      "metadata": {
        "id": "hIcOnezgpMB7"
      },
      "execution_count": 21,
      "outputs": []
    },
    {
      "cell_type": "code",
      "source": [
        "df_top_98"
      ],
      "metadata": {
        "colab": {
          "base_uri": "https://localhost:8080/",
          "height": 455
        },
        "id": "NAv587bQpaKd",
        "outputId": "cb59ad43-61ef-4fa1-b835-2ee83670e953"
      },
      "execution_count": 22,
      "outputs": [
        {
          "output_type": "execute_result",
          "data": {
            "text/plain": [
              "             한국전력   삼성전자  POSCO홀딩스       KT   대우조선해양      LG전자    현대건설  \\\n",
              "Date                                                                     \n",
              "1998-10-15  21650    957     54000      NaN      NaN       NaN  269879   \n",
              "1998-10-16  23000   1015     53000      NaN      NaN       NaN  255519   \n",
              "1998-10-17  24000   1025     55000      NaN      NaN       NaN  272356   \n",
              "1998-10-19  22600    941     54500      NaN      NaN       NaN  274337   \n",
              "1998-10-20  23800   1015     57500      NaN      NaN       NaN  292163   \n",
              "...           ...    ...       ...      ...      ...       ...     ...   \n",
              "2021-12-24  21500  80500    284000  32750.0  23000.0  136500.0   45350   \n",
              "2021-12-27  21450  80200    281500  32700.0  22750.0  138000.0   44900   \n",
              "2021-12-28  22500  80300    283500  32850.0  22650.0  138000.0   44950   \n",
              "2021-12-29  22100  78800    279000  31000.0  22850.0  140500.0   44900   \n",
              "2021-12-30  22100  78300    274500  30600.0  23050.0  138000.0   44450   \n",
              "\n",
              "               신한지주  \n",
              "Date                 \n",
              "1998-10-15      NaN  \n",
              "1998-10-16      NaN  \n",
              "1998-10-17      NaN  \n",
              "1998-10-19      NaN  \n",
              "1998-10-20      NaN  \n",
              "...             ...  \n",
              "2021-12-24  37900.0  \n",
              "2021-12-27  37900.0  \n",
              "2021-12-28  38150.0  \n",
              "2021-12-29  37200.0  \n",
              "2021-12-30  36800.0  \n",
              "\n",
              "[5741 rows x 8 columns]"
            ],
            "text/html": [
              "\n",
              "  <div id=\"df-18210dd4-1877-4ccf-ab99-ec7e304d6f8a\">\n",
              "    <div class=\"colab-df-container\">\n",
              "      <div>\n",
              "<style scoped>\n",
              "    .dataframe tbody tr th:only-of-type {\n",
              "        vertical-align: middle;\n",
              "    }\n",
              "\n",
              "    .dataframe tbody tr th {\n",
              "        vertical-align: top;\n",
              "    }\n",
              "\n",
              "    .dataframe thead th {\n",
              "        text-align: right;\n",
              "    }\n",
              "</style>\n",
              "<table border=\"1\" class=\"dataframe\">\n",
              "  <thead>\n",
              "    <tr style=\"text-align: right;\">\n",
              "      <th></th>\n",
              "      <th>한국전력</th>\n",
              "      <th>삼성전자</th>\n",
              "      <th>POSCO홀딩스</th>\n",
              "      <th>KT</th>\n",
              "      <th>대우조선해양</th>\n",
              "      <th>LG전자</th>\n",
              "      <th>현대건설</th>\n",
              "      <th>신한지주</th>\n",
              "    </tr>\n",
              "    <tr>\n",
              "      <th>Date</th>\n",
              "      <th></th>\n",
              "      <th></th>\n",
              "      <th></th>\n",
              "      <th></th>\n",
              "      <th></th>\n",
              "      <th></th>\n",
              "      <th></th>\n",
              "      <th></th>\n",
              "    </tr>\n",
              "  </thead>\n",
              "  <tbody>\n",
              "    <tr>\n",
              "      <th>1998-10-15</th>\n",
              "      <td>21650</td>\n",
              "      <td>957</td>\n",
              "      <td>54000</td>\n",
              "      <td>NaN</td>\n",
              "      <td>NaN</td>\n",
              "      <td>NaN</td>\n",
              "      <td>269879</td>\n",
              "      <td>NaN</td>\n",
              "    </tr>\n",
              "    <tr>\n",
              "      <th>1998-10-16</th>\n",
              "      <td>23000</td>\n",
              "      <td>1015</td>\n",
              "      <td>53000</td>\n",
              "      <td>NaN</td>\n",
              "      <td>NaN</td>\n",
              "      <td>NaN</td>\n",
              "      <td>255519</td>\n",
              "      <td>NaN</td>\n",
              "    </tr>\n",
              "    <tr>\n",
              "      <th>1998-10-17</th>\n",
              "      <td>24000</td>\n",
              "      <td>1025</td>\n",
              "      <td>55000</td>\n",
              "      <td>NaN</td>\n",
              "      <td>NaN</td>\n",
              "      <td>NaN</td>\n",
              "      <td>272356</td>\n",
              "      <td>NaN</td>\n",
              "    </tr>\n",
              "    <tr>\n",
              "      <th>1998-10-19</th>\n",
              "      <td>22600</td>\n",
              "      <td>941</td>\n",
              "      <td>54500</td>\n",
              "      <td>NaN</td>\n",
              "      <td>NaN</td>\n",
              "      <td>NaN</td>\n",
              "      <td>274337</td>\n",
              "      <td>NaN</td>\n",
              "    </tr>\n",
              "    <tr>\n",
              "      <th>1998-10-20</th>\n",
              "      <td>23800</td>\n",
              "      <td>1015</td>\n",
              "      <td>57500</td>\n",
              "      <td>NaN</td>\n",
              "      <td>NaN</td>\n",
              "      <td>NaN</td>\n",
              "      <td>292163</td>\n",
              "      <td>NaN</td>\n",
              "    </tr>\n",
              "    <tr>\n",
              "      <th>...</th>\n",
              "      <td>...</td>\n",
              "      <td>...</td>\n",
              "      <td>...</td>\n",
              "      <td>...</td>\n",
              "      <td>...</td>\n",
              "      <td>...</td>\n",
              "      <td>...</td>\n",
              "      <td>...</td>\n",
              "    </tr>\n",
              "    <tr>\n",
              "      <th>2021-12-24</th>\n",
              "      <td>21500</td>\n",
              "      <td>80500</td>\n",
              "      <td>284000</td>\n",
              "      <td>32750.0</td>\n",
              "      <td>23000.0</td>\n",
              "      <td>136500.0</td>\n",
              "      <td>45350</td>\n",
              "      <td>37900.0</td>\n",
              "    </tr>\n",
              "    <tr>\n",
              "      <th>2021-12-27</th>\n",
              "      <td>21450</td>\n",
              "      <td>80200</td>\n",
              "      <td>281500</td>\n",
              "      <td>32700.0</td>\n",
              "      <td>22750.0</td>\n",
              "      <td>138000.0</td>\n",
              "      <td>44900</td>\n",
              "      <td>37900.0</td>\n",
              "    </tr>\n",
              "    <tr>\n",
              "      <th>2021-12-28</th>\n",
              "      <td>22500</td>\n",
              "      <td>80300</td>\n",
              "      <td>283500</td>\n",
              "      <td>32850.0</td>\n",
              "      <td>22650.0</td>\n",
              "      <td>138000.0</td>\n",
              "      <td>44950</td>\n",
              "      <td>38150.0</td>\n",
              "    </tr>\n",
              "    <tr>\n",
              "      <th>2021-12-29</th>\n",
              "      <td>22100</td>\n",
              "      <td>78800</td>\n",
              "      <td>279000</td>\n",
              "      <td>31000.0</td>\n",
              "      <td>22850.0</td>\n",
              "      <td>140500.0</td>\n",
              "      <td>44900</td>\n",
              "      <td>37200.0</td>\n",
              "    </tr>\n",
              "    <tr>\n",
              "      <th>2021-12-30</th>\n",
              "      <td>22100</td>\n",
              "      <td>78300</td>\n",
              "      <td>274500</td>\n",
              "      <td>30600.0</td>\n",
              "      <td>23050.0</td>\n",
              "      <td>138000.0</td>\n",
              "      <td>44450</td>\n",
              "      <td>36800.0</td>\n",
              "    </tr>\n",
              "  </tbody>\n",
              "</table>\n",
              "<p>5741 rows × 8 columns</p>\n",
              "</div>\n",
              "      <button class=\"colab-df-convert\" onclick=\"convertToInteractive('df-18210dd4-1877-4ccf-ab99-ec7e304d6f8a')\"\n",
              "              title=\"Convert this dataframe to an interactive table.\"\n",
              "              style=\"display:none;\">\n",
              "        \n",
              "  <svg xmlns=\"http://www.w3.org/2000/svg\" height=\"24px\"viewBox=\"0 0 24 24\"\n",
              "       width=\"24px\">\n",
              "    <path d=\"M0 0h24v24H0V0z\" fill=\"none\"/>\n",
              "    <path d=\"M18.56 5.44l.94 2.06.94-2.06 2.06-.94-2.06-.94-.94-2.06-.94 2.06-2.06.94zm-11 1L8.5 8.5l.94-2.06 2.06-.94-2.06-.94L8.5 2.5l-.94 2.06-2.06.94zm10 10l.94 2.06.94-2.06 2.06-.94-2.06-.94-.94-2.06-.94 2.06-2.06.94z\"/><path d=\"M17.41 7.96l-1.37-1.37c-.4-.4-.92-.59-1.43-.59-.52 0-1.04.2-1.43.59L10.3 9.45l-7.72 7.72c-.78.78-.78 2.05 0 2.83L4 21.41c.39.39.9.59 1.41.59.51 0 1.02-.2 1.41-.59l7.78-7.78 2.81-2.81c.8-.78.8-2.07 0-2.86zM5.41 20L4 18.59l7.72-7.72 1.47 1.35L5.41 20z\"/>\n",
              "  </svg>\n",
              "      </button>\n",
              "      \n",
              "  <style>\n",
              "    .colab-df-container {\n",
              "      display:flex;\n",
              "      flex-wrap:wrap;\n",
              "      gap: 12px;\n",
              "    }\n",
              "\n",
              "    .colab-df-convert {\n",
              "      background-color: #E8F0FE;\n",
              "      border: none;\n",
              "      border-radius: 50%;\n",
              "      cursor: pointer;\n",
              "      display: none;\n",
              "      fill: #1967D2;\n",
              "      height: 32px;\n",
              "      padding: 0 0 0 0;\n",
              "      width: 32px;\n",
              "    }\n",
              "\n",
              "    .colab-df-convert:hover {\n",
              "      background-color: #E2EBFA;\n",
              "      box-shadow: 0px 1px 2px rgba(60, 64, 67, 0.3), 0px 1px 3px 1px rgba(60, 64, 67, 0.15);\n",
              "      fill: #174EA6;\n",
              "    }\n",
              "\n",
              "    [theme=dark] .colab-df-convert {\n",
              "      background-color: #3B4455;\n",
              "      fill: #D2E3FC;\n",
              "    }\n",
              "\n",
              "    [theme=dark] .colab-df-convert:hover {\n",
              "      background-color: #434B5C;\n",
              "      box-shadow: 0px 1px 3px 1px rgba(0, 0, 0, 0.15);\n",
              "      filter: drop-shadow(0px 1px 2px rgba(0, 0, 0, 0.3));\n",
              "      fill: #FFFFFF;\n",
              "    }\n",
              "  </style>\n",
              "\n",
              "      <script>\n",
              "        const buttonEl =\n",
              "          document.querySelector('#df-18210dd4-1877-4ccf-ab99-ec7e304d6f8a button.colab-df-convert');\n",
              "        buttonEl.style.display =\n",
              "          google.colab.kernel.accessAllowed ? 'block' : 'none';\n",
              "\n",
              "        async function convertToInteractive(key) {\n",
              "          const element = document.querySelector('#df-18210dd4-1877-4ccf-ab99-ec7e304d6f8a');\n",
              "          const dataTable =\n",
              "            await google.colab.kernel.invokeFunction('convertToInteractive',\n",
              "                                                     [key], {});\n",
              "          if (!dataTable) return;\n",
              "\n",
              "          const docLinkHtml = 'Like what you see? Visit the ' +\n",
              "            '<a target=\"_blank\" href=https://colab.research.google.com/notebooks/data_table.ipynb>data table notebook</a>'\n",
              "            + ' to learn more about interactive tables.';\n",
              "          element.innerHTML = '';\n",
              "          dataTable['output_type'] = 'display_data';\n",
              "          await google.colab.output.renderOutput(dataTable, element);\n",
              "          const docLink = document.createElement('div');\n",
              "          docLink.innerHTML = docLinkHtml;\n",
              "          element.appendChild(docLink);\n",
              "        }\n",
              "      </script>\n",
              "    </div>\n",
              "  </div>\n",
              "  "
            ]
          },
          "metadata": {},
          "execution_count": 22
        }
      ]
    },
    {
      "cell_type": "code",
      "source": [
        "ch_25 = (df_top_98.iloc[-1] - df_top_98.iloc[0]) / df_top_98.iloc[0] * 100"
      ],
      "metadata": {
        "id": "jfOqPbrjpe9I"
      },
      "execution_count": 25,
      "outputs": []
    },
    {
      "cell_type": "code",
      "source": [
        "ch_25.sort_values(ascending = False)"
      ],
      "metadata": {
        "colab": {
          "base_uri": "https://localhost:8080/"
        },
        "id": "jenkkfxWptiK",
        "outputId": "a77a899a-4057-421f-ab24-74bbe7a1891d"
      },
      "execution_count": 26,
      "outputs": [
        {
          "output_type": "execute_result",
          "data": {
            "text/plain": [
              "삼성전자        8081.818182\n",
              "POSCO홀딩스     408.333333\n",
              "한국전력           2.078522\n",
              "현대건설         -83.529656\n",
              "KT                  NaN\n",
              "대우조선해양              NaN\n",
              "LG전자                NaN\n",
              "신한지주                NaN\n",
              "dtype: float64"
            ]
          },
          "metadata": {},
          "execution_count": 26
        }
      ]
    },
    {
      "cell_type": "markdown",
      "source": [
        "### 20년 전은?"
      ],
      "metadata": {
        "id": "WeOPqxu_qS3d"
      }
    },
    {
      "cell_type": "markdown",
      "source": [
        "![image.png](data:image/png;base64,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)"
      ],
      "metadata": {
        "id": "pa_CKA7ZqUmt"
      }
    },
    {
      "cell_type": "code",
      "source": [
        "stock_name = ['삼성전자', 'SK텔레콤', 'POSCO홀딩스', '한국전력', 'KT', '현대차', 'LG전자', '삼성SDI', '신한지주', '현대모비스']"
      ],
      "metadata": {
        "id": "rqzFOYC3qDFh"
      },
      "execution_count": 27,
      "outputs": []
    },
    {
      "cell_type": "code",
      "source": [
        "df_top_03 = pd.DataFrame()\n",
        "\n",
        "for name in stock_name:\n",
        "  df = fdr.DataReader(find_code(name), '2003-01-01', '2021-12-31')['Close']\n",
        "\n",
        "  df_top_03[name] = df"
      ],
      "metadata": {
        "id": "_bLm-rXpqWz7"
      },
      "execution_count": 28,
      "outputs": []
    },
    {
      "cell_type": "code",
      "source": [
        "ch_20 = ((df_top_03.iloc[-1] - df_top_03.iloc[0]) / df_top_03.iloc[0] * 100).sort_values(ascending = False)"
      ],
      "metadata": {
        "id": "2vRQaxmKqZAS"
      },
      "execution_count": 29,
      "outputs": []
    },
    {
      "cell_type": "code",
      "source": [
        "ch_20"
      ],
      "metadata": {
        "colab": {
          "base_uri": "https://localhost:8080/"
        },
        "id": "4AHdnR1fqce3",
        "outputId": "98eecf64-33c7-4a57-dc01-b5c2c7420edc"
      },
      "execution_count": 30,
      "outputs": [
        {
          "output_type": "execute_result",
          "data": {
            "text/plain": [
              "삼성전자        1117.729393\n",
              "현대모비스       1006.521739\n",
              "삼성SDI        835.714286\n",
              "현대차          630.769231\n",
              "LG전자         235.815448\n",
              "신한지주         203.105181\n",
              "POSCO홀딩스     132.627119\n",
              "SK텔레콤         49.146081\n",
              "한국전력          22.099448\n",
              "KT           -38.677355\n",
              "dtype: float64"
            ]
          },
          "metadata": {},
          "execution_count": 30
        }
      ]
    },
    {
      "cell_type": "markdown",
      "source": [
        "### 10년 전은?"
      ],
      "metadata": {
        "id": "7UbM-p7Eqjg9"
      }
    },
    {
      "cell_type": "markdown",
      "source": [
        "1\t삼성전자\n",
        "2\t현대차\n",
        "3\tPOSCO\n",
        "4\t현대모비스\n",
        "5\t기아차\n",
        "6\tLG화학\n",
        "7\t한국전력\n",
        "8\t삼성전자우\n",
        "9\t삼성생명\n",
        "10\t신한지주"
      ],
      "metadata": {
        "id": "x43F_rgnqlR9"
      }
    },
    {
      "cell_type": "code",
      "source": [
        "stock_name_2013 = ['삼성전자', '현대차', 'POSCO홀딩스', '현대모비스', '기아', 'LG화학', '한국전력', '삼성전자우', '삼성생명', '신한지주']"
      ],
      "metadata": {
        "id": "3h-H8HKJqdLS"
      },
      "execution_count": 31,
      "outputs": []
    },
    {
      "cell_type": "code",
      "source": [
        "df_top10 = pd.DataFrame()\n",
        "\n",
        "for name in stock_name_2013:\n",
        "  df = fdr.DataReader(find_code(name), '2013-01-01', '2021-12-31')['Close']\n",
        "\n",
        "  df_top10[name] = df"
      ],
      "metadata": {
        "id": "n_EKTp-nqpMp"
      },
      "execution_count": 33,
      "outputs": []
    },
    {
      "cell_type": "code",
      "source": [
        "ch_10 = ((df_top10.iloc[-1] - df_top10.iloc[0]) / df_top10.iloc[0] * 100).sort_values(ascending = False)"
      ],
      "metadata": {
        "id": "mSDin-xtqqFo"
      },
      "execution_count": 34,
      "outputs": []
    },
    {
      "cell_type": "code",
      "source": [
        "ch_10"
      ],
      "metadata": {
        "colab": {
          "base_uri": "https://localhost:8080/"
        },
        "id": "h6OKcEY7qvjC",
        "outputId": "a7842fe1-ce22-4028-f2ee-3a6d9da3601b"
      },
      "execution_count": 35,
      "outputs": [
        {
          "output_type": "execute_result",
          "data": {
            "text/plain": [
              "삼성전자우       313.472706\n",
              "삼성전자        148.413706\n",
              "LG화학         80.882353\n",
              "기아           46.003552\n",
              "현대차          -3.240741\n",
              "신한지주         -8.114856\n",
              "현대모비스       -11.478261\n",
              "POSCO홀딩스    -23.855756\n",
              "한국전력        -29.952456\n",
              "삼성생명        -32.949791\n",
              "dtype: float64"
            ]
          },
          "metadata": {},
          "execution_count": 35
        }
      ]
    },
    {
      "cell_type": "markdown",
      "source": [
        "당시 우량주를 사면 장기적으로 우상향할까?"
      ],
      "metadata": {
        "id": "_KO5Zyqoq1xI"
      }
    },
    {
      "cell_type": "markdown",
      "source": [
        "시총 10위안에 든 종목들은 장기적으로 보유할수록 하락 보다 상승할 확률이 더 높다고 볼 수 있음.\n",
        "\n",
        "다만, 상장 폐지의 가능성도 적게나마 있으며, 변동폭이 매우 심하기 때문에 진짜 수면제를 먹어야 할 듯"
      ],
      "metadata": {
        "id": "AsYo9pQLq8EK"
      }
    },
    {
      "cell_type": "code",
      "source": [
        "df_top_03['LG전자'].plot()"
      ],
      "metadata": {
        "colab": {
          "base_uri": "https://localhost:8080/",
          "height": 287
        },
        "id": "DNcBOqB4qwV9",
        "outputId": "2250998a-9adc-43e0-ed1e-4488f98ab720"
      },
      "execution_count": 36,
      "outputs": [
        {
          "output_type": "execute_result",
          "data": {
            "text/plain": [
              "<matplotlib.axes._subplots.AxesSubplot at 0x7ff1b12ade20>"
            ]
          },
          "metadata": {},
          "execution_count": 36
        },
        {
          "output_type": "display_data",
          "data": {
            "text/plain": [
              "<Figure size 432x288 with 1 Axes>"
            ],
            "image/png": "[encoded data removed]"
          },
          "metadata": {
            "needs_background": "light"
          }
        }
      ]
    },
    {
      "cell_type": "markdown",
      "source": [
        "그럼 우량주 중에 어떤 종목을 골라야 할까?"
      ],
      "metadata": {
        "id": "_zL6p4ZKrNyO"
      }
    },
    {
      "cell_type": "markdown",
      "source": [
        "![image.png](data:image/png;base64,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)"
      ],
      "metadata": {
        "id": "gP62LOnyrQgs"
      }
    },
    {
      "cell_type": "markdown",
      "source": [
        "### 거시 공부는 할 예정이니, 한국 경제와 경향성이 가장 유사한 종목은 뭘까?"
      ],
      "metadata": {
        "id": "aCMEIF1MrUyF"
      }
    },
    {
      "cell_type": "markdown",
      "source": [
        "한국 경제 = kospi\n",
        "\n",
        "유사성 = correlation"
      ],
      "metadata": {
        "id": "dVx5x_41rZHI"
      }
    },
    {
      "cell_type": "code",
      "source": [
        "stock_name_2021 = ['삼성전자', 'SK하이닉스', 'LG화학', '삼성전자우', '삼성바이오로직스', '셀트리온', '삼성SDI', 'NAVER', '현대차', '카카오']"
      ],
      "metadata": {
        "id": "5841UtzxrBqp"
      },
      "execution_count": 37,
      "outputs": []
    },
    {
      "cell_type": "code",
      "source": [
        "df_top_2021 = pd.DataFrame()\n",
        "\n",
        "for name in stock_name_2021:\n",
        "  df = fdr.DataReader(find_code(name), '2012-01-01', '2021-12-31')['Close']\n",
        "\n",
        "  df_top_2021[name] = df"
      ],
      "metadata": {
        "id": "oncMRWK2rejV"
      },
      "execution_count": 38,
      "outputs": []
    },
    {
      "cell_type": "code",
      "source": [
        "df_top_2021['kospi'] = fdr.DataReader('KS11', '2012-01-01', '2021-12-31')['Close']"
      ],
      "metadata": {
        "id": "RnR7zPvXrfor"
      },
      "execution_count": 39,
      "outputs": []
    },
    {
      "cell_type": "code",
      "source": [
        "df_top_2021.corr()"
      ],
      "metadata": {
        "colab": {
          "base_uri": "https://localhost:8080/",
          "height": 394
        },
        "id": "FuvgNhrGrj8D",
        "outputId": "b79c5276-6411-447a-8c5b-1680494aaacb"
      },
      "execution_count": 40,
      "outputs": [
        {
          "output_type": "execute_result",
          "data": {
            "text/plain": [
              "              삼성전자    SK하이닉스      LG화학     삼성전자우  삼성바이오로직스      셀트리온  \\\n",
              "삼성전자      1.000000  0.960129  0.870574  0.991515  0.868589  0.860676   \n",
              "SK하이닉스    0.960129  1.000000  0.789191  0.963325  0.823930  0.879453   \n",
              "LG화학      0.870574  0.789191  1.000000  0.879084  0.897488  0.737146   \n",
              "삼성전자우     0.991515  0.963325  0.879084  1.000000  0.896206  0.869290   \n",
              "삼성바이오로직스  0.868589  0.823930  0.897488  0.896206  1.000000  0.769810   \n",
              "셀트리온      0.860676  0.879453  0.737146  0.869290  0.769810  1.000000   \n",
              "삼성SDI     0.900292  0.839165  0.955854  0.912069  0.925012  0.724399   \n",
              "NAVER     0.861370  0.814557  0.876721  0.897926  0.892152  0.699053   \n",
              "현대차      -0.060057 -0.165067  0.250240 -0.085698  0.636230 -0.324594   \n",
              "카카오       0.810127  0.744841  0.908606  0.837368  0.899219  0.614093   \n",
              "kospi     0.899613  0.844097  0.890304  0.903807  0.747599  0.729729   \n",
              "\n",
              "             삼성SDI     NAVER       현대차       카카오     kospi  \n",
              "삼성전자      0.900292  0.861370 -0.060057  0.810127  0.899613  \n",
              "SK하이닉스    0.839165  0.814557 -0.165067  0.744841  0.844097  \n",
              "LG화학      0.955854  0.876721  0.250240  0.908606  0.890304  \n",
              "삼성전자우     0.912069  0.897926 -0.085698  0.837368  0.903807  \n",
              "삼성바이오로직스  0.925012  0.892152  0.636230  0.899219  0.747599  \n",
              "셀트리온      0.724399  0.699053 -0.324594  0.614093  0.729729  \n",
              "삼성SDI     1.000000  0.924556  0.216204  0.949194  0.885800  \n",
              "NAVER     0.924556  1.000000  0.105139  0.935118  0.871602  \n",
              "현대차       0.216204  0.105139  1.000000  0.249449  0.180131  \n",
              "카카오       0.949194  0.935118  0.249449  1.000000  0.867902  \n",
              "kospi     0.885800  0.871602  0.180131  0.867902  1.000000  "
            ],
            "text/html": [
              "\n",
              "  <div id=\"df-102dadba-c81d-4028-b706-877c70ad0e4b\">\n",
              "    <div class=\"colab-df-container\">\n",
              "      <div>\n",
              "<style scoped>\n",
              "    .dataframe tbody tr th:only-of-type {\n",
              "        vertical-align: middle;\n",
              "    }\n",
              "\n",
              "    .dataframe tbody tr th {\n",
              "        vertical-align: top;\n",
              "    }\n",
              "\n",
              "    .dataframe thead th {\n",
              "        text-align: right;\n",
              "    }\n",
              "</style>\n",
              "<table border=\"1\" class=\"dataframe\">\n",
              "  <thead>\n",
              "    <tr style=\"text-align: right;\">\n",
              "      <th></th>\n",
              "      <th>삼성전자</th>\n",
              "      <th>SK하이닉스</th>\n",
              "      <th>LG화학</th>\n",
              "      <th>삼성전자우</th>\n",
              "      <th>삼성바이오로직스</th>\n",
              "      <th>셀트리온</th>\n",
              "      <th>삼성SDI</th>\n",
              "      <th>NAVER</th>\n",
              "      <th>현대차</th>\n",
              "      <th>카카오</th>\n",
              "      <th>kospi</th>\n",
              "    </tr>\n",
              "  </thead>\n",
              "  <tbody>\n",
              "    <tr>\n",
              "      <th>삼성전자</th>\n",
              "      <td>1.000000</td>\n",
              "      <td>0.960129</td>\n",
              "      <td>0.870574</td>\n",
              "      <td>0.991515</td>\n",
              "      <td>0.868589</td>\n",
              "      <td>0.860676</td>\n",
              "      <td>0.900292</td>\n",
              "      <td>0.861370</td>\n",
              "      <td>-0.060057</td>\n",
              "      <td>0.810127</td>\n",
              "      <td>0.899613</td>\n",
              "    </tr>\n",
              "    <tr>\n",
              "      <th>SK하이닉스</th>\n",
              "      <td>0.960129</td>\n",
              "      <td>1.000000</td>\n",
              "      <td>0.789191</td>\n",
              "      <td>0.963325</td>\n",
              "      <td>0.823930</td>\n",
              "      <td>0.879453</td>\n",
              "      <td>0.839165</td>\n",
              "      <td>0.814557</td>\n",
              "      <td>-0.165067</td>\n",
              "      <td>0.744841</td>\n",
              "      <td>0.844097</td>\n",
              "    </tr>\n",
              "    <tr>\n",
              "      <th>LG화학</th>\n",
              "      <td>0.870574</td>\n",
              "      <td>0.789191</td>\n",
              "      <td>1.000000</td>\n",
              "      <td>0.879084</td>\n",
              "      <td>0.897488</td>\n",
              "      <td>0.737146</td>\n",
              "      <td>0.955854</td>\n",
              "      <td>0.876721</td>\n",
              "      <td>0.250240</td>\n",
              "      <td>0.908606</td>\n",
              "      <td>0.890304</td>\n",
              "    </tr>\n",
              "    <tr>\n",
              "      <th>삼성전자우</th>\n",
              "      <td>0.991515</td>\n",
              "      <td>0.963325</td>\n",
              "      <td>0.879084</td>\n",
              "      <td>1.000000</td>\n",
              "      <td>0.896206</td>\n",
              "      <td>0.869290</td>\n",
              "      <td>0.912069</td>\n",
              "      <td>0.897926</td>\n",
              "      <td>-0.085698</td>\n",
              "      <td>0.837368</td>\n",
              "      <td>0.903807</td>\n",
              "    </tr>\n",
              "    <tr>\n",
              "      <th>삼성바이오로직스</th>\n",
              "      <td>0.868589</td>\n",
              "      <td>0.823930</td>\n",
              "      <td>0.897488</td>\n",
              "      <td>0.896206</td>\n",
              "      <td>1.000000</td>\n",
              "      <td>0.769810</td>\n",
              "      <td>0.925012</td>\n",
              "      <td>0.892152</td>\n",
              "      <td>0.636230</td>\n",
              "      <td>0.899219</td>\n",
              "      <td>0.747599</td>\n",
              "    </tr>\n",
              "    <tr>\n",
              "      <th>셀트리온</th>\n",
              "      <td>0.860676</td>\n",
              "      <td>0.879453</td>\n",
              "      <td>0.737146</td>\n",
              "      <td>0.869290</td>\n",
              "      <td>0.769810</td>\n",
              "      <td>1.000000</td>\n",
              "      <td>0.724399</td>\n",
              "      <td>0.699053</td>\n",
              "      <td>-0.324594</td>\n",
              "      <td>0.614093</td>\n",
              "      <td>0.729729</td>\n",
              "    </tr>\n",
              "    <tr>\n",
              "      <th>삼성SDI</th>\n",
              "      <td>0.900292</td>\n",
              "      <td>0.839165</td>\n",
              "      <td>0.955854</td>\n",
              "      <td>0.912069</td>\n",
              "      <td>0.925012</td>\n",
              "      <td>0.724399</td>\n",
              "      <td>1.000000</td>\n",
              "      <td>0.924556</td>\n",
              "      <td>0.216204</td>\n",
              "      <td>0.949194</td>\n",
              "      <td>0.885800</td>\n",
              "    </tr>\n",
              "    <tr>\n",
              "      <th>NAVER</th>\n",
              "      <td>0.861370</td>\n",
              "      <td>0.814557</td>\n",
              "      <td>0.876721</td>\n",
              "      <td>0.897926</td>\n",
              "      <td>0.892152</td>\n",
              "      <td>0.699053</td>\n",
              "      <td>0.924556</td>\n",
              "      <td>1.000000</td>\n",
              "      <td>0.105139</td>\n",
              "      <td>0.935118</td>\n",
              "      <td>0.871602</td>\n",
              "    </tr>\n",
              "    <tr>\n",
              "      <th>현대차</th>\n",
              "      <td>-0.060057</td>\n",
              "      <td>-0.165067</td>\n",
              "      <td>0.250240</td>\n",
              "      <td>-0.085698</td>\n",
              "      <td>0.636230</td>\n",
              "      <td>-0.324594</td>\n",
              "      <td>0.216204</td>\n",
              "      <td>0.105139</td>\n",
              "      <td>1.000000</td>\n",
              "      <td>0.249449</td>\n",
              "      <td>0.180131</td>\n",
              "    </tr>\n",
              "    <tr>\n",
              "      <th>카카오</th>\n",
              "      <td>0.810127</td>\n",
              "      <td>0.744841</td>\n",
              "      <td>0.908606</td>\n",
              "      <td>0.837368</td>\n",
              "      <td>0.899219</td>\n",
              "      <td>0.614093</td>\n",
              "      <td>0.949194</td>\n",
              "      <td>0.935118</td>\n",
              "      <td>0.249449</td>\n",
              "      <td>1.000000</td>\n",
              "      <td>0.867902</td>\n",
              "    </tr>\n",
              "    <tr>\n",
              "      <th>kospi</th>\n",
              "      <td>0.899613</td>\n",
              "      <td>0.844097</td>\n",
              "      <td>0.890304</td>\n",
              "      <td>0.903807</td>\n",
              "      <td>0.747599</td>\n",
              "      <td>0.729729</td>\n",
              "      <td>0.885800</td>\n",
              "      <td>0.871602</td>\n",
              "      <td>0.180131</td>\n",
              "      <td>0.867902</td>\n",
              "      <td>1.000000</td>\n",
              "    </tr>\n",
              "  </tbody>\n",
              "</table>\n",
              "</div>\n",
              "      <button class=\"colab-df-convert\" onclick=\"convertToInteractive('df-102dadba-c81d-4028-b706-877c70ad0e4b')\"\n",
              "              title=\"Convert this dataframe to an interactive table.\"\n",
              "              style=\"display:none;\">\n",
              "        \n",
              "  <svg xmlns=\"http://www.w3.org/2000/svg\" height=\"24px\"viewBox=\"0 0 24 24\"\n",
              "       width=\"24px\">\n",
              "    <path d=\"M0 0h24v24H0V0z\" fill=\"none\"/>\n",
              "    <path d=\"M18.56 5.44l.94 2.06.94-2.06 2.06-.94-2.06-.94-.94-2.06-.94 2.06-2.06.94zm-11 1L8.5 8.5l.94-2.06 2.06-.94-2.06-.94L8.5 2.5l-.94 2.06-2.06.94zm10 10l.94 2.06.94-2.06 2.06-.94-2.06-.94-.94-2.06-.94 2.06-2.06.94z\"/><path d=\"M17.41 7.96l-1.37-1.37c-.4-.4-.92-.59-1.43-.59-.52 0-1.04.2-1.43.59L10.3 9.45l-7.72 7.72c-.78.78-.78 2.05 0 2.83L4 21.41c.39.39.9.59 1.41.59.51 0 1.02-.2 1.41-.59l7.78-7.78 2.81-2.81c.8-.78.8-2.07 0-2.86zM5.41 20L4 18.59l7.72-7.72 1.47 1.35L5.41 20z\"/>\n",
              "  </svg>\n",
              "      </button>\n",
              "      \n",
              "  <style>\n",
              "    .colab-df-container {\n",
              "      display:flex;\n",
              "      flex-wrap:wrap;\n",
              "      gap: 12px;\n",
              "    }\n",
              "\n",
              "    .colab-df-convert {\n",
              "      background-color: #E8F0FE;\n",
              "      border: none;\n",
              "      border-radius: 50%;\n",
              "      cursor: pointer;\n",
              "      display: none;\n",
              "      fill: #1967D2;\n",
              "      height: 32px;\n",
              "      padding: 0 0 0 0;\n",
              "      width: 32px;\n",
              "    }\n",
              "\n",
              "    .colab-df-convert:hover {\n",
              "      background-color: #E2EBFA;\n",
              "      box-shadow: 0px 1px 2px rgba(60, 64, 67, 0.3), 0px 1px 3px 1px rgba(60, 64, 67, 0.15);\n",
              "      fill: #174EA6;\n",
              "    }\n",
              "\n",
              "    [theme=dark] .colab-df-convert {\n",
              "      background-color: #3B4455;\n",
              "      fill: #D2E3FC;\n",
              "    }\n",
              "\n",
              "    [theme=dark] .colab-df-convert:hover {\n",
              "      background-color: #434B5C;\n",
              "      box-shadow: 0px 1px 3px 1px rgba(0, 0, 0, 0.15);\n",
              "      filter: drop-shadow(0px 1px 2px rgba(0, 0, 0, 0.3));\n",
              "      fill: #FFFFFF;\n",
              "    }\n",
              "  </style>\n",
              "\n",
              "      <script>\n",
              "        const buttonEl =\n",
              "          document.querySelector('#df-102dadba-c81d-4028-b706-877c70ad0e4b button.colab-df-convert');\n",
              "        buttonEl.style.display =\n",
              "          google.colab.kernel.accessAllowed ? 'block' : 'none';\n",
              "\n",
              "        async function convertToInteractive(key) {\n",
              "          const element = document.querySelector('#df-102dadba-c81d-4028-b706-877c70ad0e4b');\n",
              "          const dataTable =\n",
              "            await google.colab.kernel.invokeFunction('convertToInteractive',\n",
              "                                                     [key], {});\n",
              "          if (!dataTable) return;\n",
              "\n",
              "          const docLinkHtml = 'Like what you see? Visit the ' +\n",
              "            '<a target=\"_blank\" href=https://colab.research.google.com/notebooks/data_table.ipynb>data table notebook</a>'\n",
              "            + ' to learn more about interactive tables.';\n",
              "          element.innerHTML = '';\n",
              "          dataTable['output_type'] = 'display_data';\n",
              "          await google.colab.output.renderOutput(dataTable, element);\n",
              "          const docLink = document.createElement('div');\n",
              "          docLink.innerHTML = docLinkHtml;\n",
              "          element.appendChild(docLink);\n",
              "        }\n",
              "      </script>\n",
              "    </div>\n",
              "  </div>\n",
              "  "
            ]
          },
          "metadata": {},
          "execution_count": 40
        }
      ]
    },
    {
      "cell_type": "code",
      "source": [
        "df_top_2021.corr()['kospi'].sort_values(ascending = False)"
      ],
      "metadata": {
        "colab": {
          "base_uri": "https://localhost:8080/"
        },
        "id": "OITvwVSvrltH",
        "outputId": "1f8a5d8a-d314-496f-c415-8a4dbb9789ff"
      },
      "execution_count": 41,
      "outputs": [
        {
          "output_type": "execute_result",
          "data": {
            "text/plain": [
              "kospi       1.000000\n",
              "삼성전자우       0.903807\n",
              "삼성전자        0.899613\n",
              "LG화학        0.890304\n",
              "삼성SDI       0.885800\n",
              "NAVER       0.871602\n",
              "카카오         0.867902\n",
              "SK하이닉스      0.844097\n",
              "삼성바이오로직스    0.747599\n",
              "셀트리온        0.729729\n",
              "현대차         0.180131\n",
              "Name: kospi, dtype: float64"
            ]
          },
          "metadata": {},
          "execution_count": 41
        }
      ]
    },
    {
      "cell_type": "markdown",
      "source": [
        "코스피보다 수익률은 높겠지?"
      ],
      "metadata": {
        "id": "IqnR7vmervgk"
      }
    },
    {
      "cell_type": "code",
      "source": [
        "((df_top_2021.iloc[-1] - df_top_2021.iloc[0]) / df_top_2021.iloc[0] * 100).sort_values(ascending = False)"
      ],
      "metadata": {
        "colab": {
          "base_uri": "https://localhost:8080/"
        },
        "id": "Q6astPwRrqkY",
        "outputId": "c6fdc8f5-810b-4b56-dcdd-6e5df40c28b1"
      },
      "execution_count": 42,
      "outputs": [
        {
          "output_type": "execute_result",
          "data": {
            "text/plain": [
              "셀트리온        537.953641\n",
              "NAVER       476.937733\n",
              "SK하이닉스      458.635394\n",
              "삼성전자우       428.974740\n",
              "삼성SDI       376.363636\n",
              "카카오         353.117448\n",
              "삼성전자        262.500000\n",
              "LG화학         92.187500\n",
              "kospi        63.036510\n",
              "현대차          -1.647059\n",
              "삼성바이오로직스           NaN\n",
              "dtype: float64"
            ]
          },
          "metadata": {},
          "execution_count": 42
        }
      ]
    },
    {
      "cell_type": "markdown",
      "source": [
        "추가 검증\n",
        "- 섹터별 수익률\n",
        "- 상승 기울기와 수익률 분석\n",
        "- 회사 직원 수와 퇴사율 추이\n",
        "- 긍/부정 기사와 주가의 연관성 확인"
      ],
      "metadata": {
        "id": "f5XBH8srr7lf"
      }
    },
    {
      "cell_type": "code",
      "source": [],
      "metadata": {
        "id": "rPlybd5WryES"
      },
      "execution_count": null,
      "outputs": []
    }
  ]
}